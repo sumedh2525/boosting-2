{
 "cells": [
  {
   "cell_type": "markdown",
   "id": "a004289a-020f-4318-92d7-ad8dc2ed6199",
   "metadata": {},
   "source": [
    "Q1. What is Gradient Boosting Regression?\n",
    "\n",
    "Ans : Gradient Boosting Regression, often simply referred to as Gradient Boosting, is a powerful ensemble machine learning technique used for regression tasks. It belongs to a class of algorithms known as ensemble methods, which aim to combine the predictions of multiple models to create a more accurate and robust predictive model."
   ]
  },
  {
   "cell_type": "code",
   "execution_count": null,
   "id": "18cb6338-9ed4-4874-bd44-3ccc6003b404",
   "metadata": {},
   "outputs": [],
   "source": []
  },
  {
   "cell_type": "markdown",
   "id": "9370fa37-0acf-4b83-8b86-b7c32226ecc5",
   "metadata": {},
   "source": [
    "Q2. Implement a simple gradient boosting algorithm from scratch using Python and NumPy. Use a\n",
    "simple regression problem as an example and train the model on a small dataset. Evaluate the model's\n",
    "performance using metrics such as mean squared error and R-squared."
   ]
  },
  {
   "cell_type": "code",
   "execution_count": 3,
   "id": "9d367725-6aea-4362-95d8-14403270ab30",
   "metadata": {},
   "outputs": [
    {
     "ename": "NameError",
     "evalue": "name 'DecisionStump' is not defined",
     "output_type": "error",
     "traceback": [
      "\u001b[0;31m---------------------------------------------------------------------------\u001b[0m",
      "\u001b[0;31mNameError\u001b[0m                                 Traceback (most recent call last)",
      "Cell \u001b[0;32mIn[3], line 26\u001b[0m\n\u001b[1;32m     23\u001b[0m residuals \u001b[38;5;241m=\u001b[39m y \u001b[38;5;241m-\u001b[39m predictions\n\u001b[1;32m     25\u001b[0m \u001b[38;5;66;03m# Fit a decision stump to the residuals\u001b[39;00m\n\u001b[0;32m---> 26\u001b[0m stump \u001b[38;5;241m=\u001b[39m \u001b[43mDecisionStump\u001b[49m()\n\u001b[1;32m     27\u001b[0m stump\u001b[38;5;241m.\u001b[39mfit(X, residuals)\n\u001b[1;32m     28\u001b[0m weak_learners\u001b[38;5;241m.\u001b[39mappend(stump)\n",
      "\u001b[0;31mNameError\u001b[0m: name 'DecisionStump' is not defined"
     ]
    }
   ],
   "source": [
    "import numpy as np\n",
    "from sklearn.metrics import mean_squared_error, r2_score\n",
    "\n",
    "# Generate a sample dataset\n",
    "np.random.seed(0)\n",
    "X = np.random.rand(100, 1) * 10\n",
    "y = 2 * X + 1 + np.random.randn(100, 1)\n",
    "\n",
    "# Define the number of boosting rounds\n",
    "n_rounds = 100\n",
    "\n",
    "# Initialize the predictions with the mean of the target variable\n",
    "predictions = np.full(y.shape, np.mean(y))\n",
    "\n",
    "# Create a list to store the weak learners (decision stumps)\n",
    "weak_learners = []\n",
    "\n",
    "# Define the learning rate (shrinkage)\n",
    "learning_rate = 0.1\n",
    "\n",
    "for _ in range(n_rounds):\n",
    "    # Calculate the residuals\n",
    "    residuals = y - predictions\n",
    "\n",
    "    # Fit a decision stump to the residuals\n",
    "    stump = DecisionStump()\n",
    "    stump.fit(X, residuals)\n",
    "    weak_learners.append(stump)\n",
    "\n",
    "    # Update predictions\n",
    "    predictions += learning_rate * stump.predict(X)\n",
    "\n",
    "# Calculate the final predictions\n",
    "final_predictions = predictions\n",
    "\n",
    "# Evaluate the model\n",
    "mse = mean_squared_error(y, final_predictions)\n",
    "r2 = r2_score(y, final_predictions)\n",
    "\n",
    "  \n"
   ]
  },
  {
   "cell_type": "code",
   "execution_count": null,
   "id": "a79996f6-0f68-4367-8c95-342bfafcb5d6",
   "metadata": {},
   "outputs": [],
   "source": []
  }
 ],
 "metadata": {
  "kernelspec": {
   "display_name": "Python 3 (ipykernel)",
   "language": "python",
   "name": "python3"
  },
  "language_info": {
   "codemirror_mode": {
    "name": "ipython",
    "version": 3
   },
   "file_extension": ".py",
   "mimetype": "text/x-python",
   "name": "python",
   "nbconvert_exporter": "python",
   "pygments_lexer": "ipython3",
   "version": "3.10.8"
  }
 },
 "nbformat": 4,
 "nbformat_minor": 5
}
